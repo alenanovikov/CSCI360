{
  "cells": [
    {
      "cell_type": "markdown",
      "metadata": {
        "id": "view-in-github",
        "colab_type": "text"
      },
      "source": [
        "<a href=\"https://colab.research.google.com/github/alenanovikov/CSCI360/blob/dev/CSCI360_JupyterNT.ipynb\" target=\"_parent\"><img src=\"https://colab.research.google.com/assets/colab-badge.svg\" alt=\"Open In Colab\"/></a>"
      ]
    },
    {
      "cell_type": "markdown",
      "source": [
        "# Lab 0"
      ],
      "metadata": {
        "id": "P7GFsEFIV7yI"
      },
      "id": "P7GFsEFIV7yI"
    },
    {
      "cell_type": "code",
      "source": [
        "from google.colab import drive\n",
        "drive.mount('/content/drive')"
      ],
      "metadata": {
        "colab": {
          "base_uri": "https://localhost:8080/"
        },
        "id": "Otqbbj2npSom",
        "outputId": "97f36581-7d16-47b6-b4c2-af2a0d027d74"
      },
      "id": "Otqbbj2npSom",
      "execution_count": 3,
      "outputs": [
        {
          "output_type": "stream",
          "name": "stdout",
          "text": [
            "Drive already mounted at /content/drive; to attempt to forcibly remount, call drive.mount(\"/content/drive\", force_remount=True).\n"
          ]
        }
      ]
    },
    {
      "cell_type": "markdown",
      "source": [
        "List \n",
        "\n",
        "(a)Create a Python list object and perform some basic list functions.\n",
        "\n",
        "(b)Learn about indexing and slicing and try them on a list.\n",
        "\n",
        "(c)Learn about list comprehension and try to create some lists using list comprehen-sion\n",
        "\n",
        "(d)Explore functions like min(), max(), sort(), sum(), and len() to find the sum, min, max, mean, and median of the list."
      ],
      "metadata": {
        "id": "C77uOzGKWJGC"
      },
      "id": "C77uOzGKWJGC"
    },
    {
      "cell_type": "code",
      "source": [
        "my_list = [1, 2, 6, 86, 23]\n",
        "\n",
        "print(my_list[4])\n",
        "\n",
        "print(my_list[0:2])\n",
        "\n",
        "new_list = []\n",
        "\n",
        "for x in my_list:\n",
        "  if x==2:\n",
        "    new_list.append(x)\n",
        "\n",
        "print(new_list)\n",
        "\n",
        "print(min(my_list))\n",
        "\n",
        "my_list.sort()\n",
        "\n",
        "print(my_list)\n",
        "\n",
        "print(sum(my_list))\n",
        "\n",
        "print(my_list)"
      ],
      "metadata": {
        "colab": {
          "base_uri": "https://localhost:8080/"
        },
        "id": "XrjGbV9JWu3m",
        "outputId": "4df4ec0a-ccf6-4d94-e639-929d543589e2"
      },
      "id": "XrjGbV9JWu3m",
      "execution_count": 12,
      "outputs": [
        {
          "output_type": "stream",
          "name": "stdout",
          "text": [
            "23\n",
            "[1, 2]\n",
            "[2]\n",
            "1\n",
            "[1, 2, 6, 23, 86]\n",
            "118\n"
          ]
        }
      ]
    },
    {
      "cell_type": "markdown",
      "source": [
        "Queue\n",
        "\n",
        "(a)\n",
        "Explore different ways to create a python queue to perform operations efficiently.\n",
        "\n",
        "(b)\n",
        "Understand what a deque is, and what additional flexibility it provides apart from\n",
        "the conventional queue data structure.\n",
        "\n",
        "(c)\n",
        "Create a function to reorganize the elements of a queue. You will need to use\n",
        "loops, conditional operations, push, pop, front methods in the queue. [Refer to\n",
        "the jupyter-notebook]\n",
        "\n",
        "(d)\n",
        "Solve a leetcode problem : Implement stack data structure using queues.\n",
        "\n"
      ],
      "metadata": {
        "id": "4HNEvLK3ymsA"
      },
      "id": "4HNEvLK3ymsA"
    },
    {
      "cell_type": "code",
      "source": [
        "'''\n",
        "Ways to implement a queue in Python:\n",
        "- list: enqueue() = append() and deque() = pop(); slow takes O(n) time\n",
        "- deque: enqueue() = append() and deque() = popfront(); fast takes O(1) time\n",
        "- queue: enqueue() = put(item) and deque() = get(); follows FIFO rule\n",
        "\n",
        "'''\n",
        "\n",
        "from queue import Queue\n",
        "\n",
        "class Stack:\n",
        "  q1 = Queue()\n",
        "  q2 = Queue()\n",
        "\n",
        "  # takes O(1)\n",
        "  def push(self, item):\n",
        "    self.q1.put(item)\n",
        "\n",
        "  # takes O(n)\n",
        "  def pop(self):\n",
        "    # copy everything except the last item to q2\n",
        "    for x in range(self.q1.qsize()-1):\n",
        "      self.q2.put(self.q1.get())\n",
        "    # get the last item\n",
        "    res = self.q1.get()\n",
        "    # swap the queues\n",
        "    temp = self.q1\n",
        "    self.q1 = self.q2\n",
        "    self.q2 = temp\n",
        "    return res\n",
        "\n",
        "  def printstack(self):\n",
        "    print(self.q1.queue)\n",
        "\n",
        "stck = Stack()\n",
        "stck.push(1)\n",
        "stck.push(9)\n",
        "stck.push(56)\n",
        "stck.push(90)\n",
        "stck.printstack()\n",
        "print(stck.pop())\n",
        "print(stck.pop())\n",
        "stck.printstack()"
      ],
      "metadata": {
        "colab": {
          "base_uri": "https://localhost:8080/"
        },
        "id": "_9e7PB-Oy4sa",
        "outputId": "54b7b927-5392-4f29-cda2-b9dc7669a5e9"
      },
      "id": "_9e7PB-Oy4sa",
      "execution_count": 9,
      "outputs": [
        {
          "output_type": "stream",
          "name": "stdout",
          "text": [
            "deque([1, 9, 56, 90])\n",
            "90\n",
            "56\n",
            "deque([1, 9])\n"
          ]
        }
      ]
    },
    {
      "cell_type": "markdown",
      "source": [
        "(a)\n",
        "Create a Python Dictionary to perform operations like add, modify, and delete\n",
        "an item.\n",
        "\n",
        "(b)\n",
        "Learn about different methods that can be used to explore a dictionary.\n",
        "\n",
        "(c)\n",
        "Learn about looping through the dictionary, try manipulating a dictionary with\n",
        "lists as it’s item value.\n"
      ],
      "metadata": {
        "id": "JzxX977xn6l5"
      },
      "id": "JzxX977xn6l5"
    },
    {
      "cell_type": "code",
      "source": [
        "my_dict = {\n",
        "    1: \"Miller\",\n",
        "    2: \"Jacobsen\",\n",
        "    3: \"Pavlova\",\n",
        "    4: \"Zeke\"\n",
        "}\n",
        "\n",
        "# add to a dictionary\n",
        "my_dict[5] = \"Russeau\"\n",
        "print(my_dict)\n",
        "del my_dict[2]\n",
        "print(my_dict)\n",
        "\n",
        "student_scores = {1001:[95, 93, 81, 90, 100], 1002:[100, 95, 89, 87, ''], 1003:[92, 91, '', 80, '']}\n",
        "print(student_scores)\n",
        "print(student_scores.keys())\n",
        "print(student_scores[1003])\n",
        "del student_scores[1001]\n",
        "print(student_scores)\n",
        "\n",
        "for k, v in student_scores.items():\n",
        "  print(k, v)"
      ],
      "metadata": {
        "colab": {
          "base_uri": "https://localhost:8080/"
        },
        "id": "chAyQ8GtoGEs",
        "outputId": "f3e1cdb5-e146-438c-d423-6625cfe17a75"
      },
      "id": "chAyQ8GtoGEs",
      "execution_count": 6,
      "outputs": [
        {
          "output_type": "stream",
          "name": "stdout",
          "text": [
            "{1: 'Miller', 2: 'Jacobsen', 3: 'Pavlova', 4: 'Zeke', 5: 'Russeau'}\n",
            "{1: 'Miller', 3: 'Pavlova', 4: 'Zeke', 5: 'Russeau'}\n",
            "{1001: [95, 93, 81, 90, 100], 1002: [100, 95, 89, 87, ''], 1003: [92, 91, '', 80, '']}\n",
            "dict_keys([1001, 1002, 1003])\n",
            "[92, 91, '', 80, '']\n",
            "{1002: [100, 95, 89, 87, ''], 1003: [92, 91, '', 80, '']}\n",
            "1002 [100, 95, 89, 87, '']\n",
            "1003 [92, 91, '', 80, '']\n"
          ]
        }
      ]
    },
    {
      "cell_type": "markdown",
      "source": [
        "(a)\n",
        "Create a Python list object and maintain a\n",
        "min heap using the heapq library.\n",
        "\n",
        "(b)\n",
        "Create a Python list object and maintain a\n",
        "max heap\n",
        "using the heapq library.\n",
        "\n",
        "(c)\n",
        "Use the heapq library to implement heap sort algorithm.\n"
      ],
      "metadata": {
        "id": "aeigOkydvb35"
      },
      "id": "aeigOkydvb35"
    },
    {
      "cell_type": "code",
      "source": [
        "import heapq\n",
        "\n",
        "my_list = [56, 8, 98, 45, 6, 2]\n",
        "heapq.heapify(my_list);\n",
        "print(my_list)\n",
        "my_max_heap = [-x for x in my_list]\n",
        "heapq.heapify(my_max_heap)\n",
        "print(my_max_heap)\n",
        "\n",
        "def heap_sort(lst):\n",
        "  ans = []\n",
        "  max_hp = [-x for x in lst]\n",
        "  heapq.heapify(max_hp)\n",
        "\n",
        "  while(len(max_hp) > 0):\n",
        "    ans.append(max_hp[0]*-1)\n",
        "    max_hp[0] = max_hp[-1]\n",
        "    max_hp.remove(max_hp[-1])\n",
        "\n",
        "  return ans\n",
        "\n",
        "print(heap_sort(my_max_heap))"
      ],
      "metadata": {
        "colab": {
          "base_uri": "https://localhost:8080/"
        },
        "id": "tv9tBJ8uvlB0",
        "outputId": "558bb448-db52-4c9d-88bb-74511ef6e579"
      },
      "id": "tv9tBJ8uvlB0",
      "execution_count": 7,
      "outputs": [
        {
          "output_type": "stream",
          "name": "stdout",
          "text": [
            "[2, 6, 56, 45, 8, 98]\n",
            "[-98, -45, -56, -6, -8, -2]\n",
            "[-2, -6, -56, -45, -8, -98]\n"
          ]
        }
      ]
    },
    {
      "cell_type": "markdown",
      "source": [
        "NumPy\n",
        "\n",
        "(a)\n",
        "Create a 2-dimensional Python list object, then convert it to a Numpy array\n",
        "object.\n",
        "\n",
        "(b)\n",
        "Examine the ndim, shape, size, dtype, itemsize, and data attributes of the numpy array object. Make sure you understand their functions.\n",
        "\n",
        "(c)\n",
        "Learn the dimension concept of an ndarray object by using reshape() and flatten() methods.\n",
        "\n",
        "(d)\n",
        "Understand how the slice operation works for 1-D arrays and 2-D arrays and practice by yourself.\n",
        "\n",
        "(e)\n",
        "Learn operations on ndarray by examining the argmin(), argmax(), min(), max(), mean(), sum(), std(), dot(), square(), sqrt(), abs(). exp(), sign(), and mod() methods. Make yourself comfortable with these methods.\n",
        "\n",
        "(f)\n",
        "Examine the arange(), ones(), zeros(), eye(), linspace(), and concatenate() methods. Make yourself comfortable with these methods.\n"
      ],
      "metadata": {
        "id": "I8gLxvaYfMni"
      },
      "id": "I8gLxvaYfMni"
    },
    {
      "cell_type": "code",
      "source": [
        "import numpy as np\n",
        "\n",
        "a = [[1,2,3],\n",
        "     [4,5,6],\n",
        "     [7,8,9]]\n",
        "\n",
        "b = np.array(a)\n",
        "\n",
        "# Part b\n",
        "\n",
        "print(b)\n",
        "print(b.ndim)\n",
        "print(b.size)\n",
        "print(b.shape)\n",
        "print(b.dtype)\n",
        "\n",
        "print(b.reshape(1, 9)) # reshapes into an array of size 9x1\n",
        "print(b.ravel()) # prints out all the elements of the array\n",
        "\n",
        "# Slicing\n",
        "\n",
        "print(b[0:2, 1]) # second elements in the first 2 rows\n",
        "print(b[1, :]) # everything in the second row\n",
        "\n",
        "# Part e\n",
        "\n",
        "print(np.argmax(b)) # index of max element\n",
        "print(np.max(b)) # values of max element\n",
        "print(np.std(b))\n",
        "\n",
        "# Part f\n",
        "\n",
        "print(np.zeros((2,3)))\n",
        "print(np.ones((2,3)))\n",
        "print(np.linspace(1, 5, 3)) # 3 evenly spaces samples\n",
        "print(np.eye(3)) # matrix in echelon row form"
      ],
      "metadata": {
        "colab": {
          "base_uri": "https://localhost:8080/"
        },
        "id": "SOrWhMq4f1FE",
        "outputId": "808dd10d-b921-4138-e6c6-0dfaeabc993f"
      },
      "id": "SOrWhMq4f1FE",
      "execution_count": 32,
      "outputs": [
        {
          "output_type": "stream",
          "name": "stdout",
          "text": [
            "[[1 2 3]\n",
            " [4 5 6]\n",
            " [7 8 9]]\n",
            "2\n",
            "9\n",
            "(3, 3)\n",
            "int64\n",
            "[[1 2 3 4 5 6 7 8 9]]\n",
            "[1 2 3 4 5 6 7 8 9]\n",
            "[2 5]\n",
            "[4 5 6]\n",
            "8\n",
            "9\n",
            "2.581988897471611\n",
            "[[0. 0. 0.]\n",
            " [0. 0. 0.]]\n",
            "[[1. 1. 1.]\n",
            " [1. 1. 1.]]\n",
            "[1. 3. 5.]\n",
            "[[1. 0. 0.]\n",
            " [0. 1. 0.]\n",
            " [0. 0. 1.]]\n"
          ]
        }
      ]
    }
  ],
  "metadata": {
    "kernelspec": {
      "display_name": "Python 3 (ipykernel)",
      "language": "python",
      "name": "python3"
    },
    "language_info": {
      "codemirror_mode": {
        "name": "ipython",
        "version": 3
      },
      "file_extension": ".py",
      "mimetype": "text/x-python",
      "name": "python",
      "nbconvert_exporter": "python",
      "pygments_lexer": "ipython3",
      "version": "3.9.12"
    },
    "colab": {
      "provenance": [],
      "toc_visible": true,
      "include_colab_link": true
    }
  },
  "nbformat": 4,
  "nbformat_minor": 5
}