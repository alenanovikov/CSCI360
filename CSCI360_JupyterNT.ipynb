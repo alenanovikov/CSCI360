{
  "cells": [
    {
      "cell_type": "markdown",
      "metadata": {
        "id": "view-in-github",
        "colab_type": "text"
      },
      "source": [
        "<a href=\"https://colab.research.google.com/github/alenanovikov/CSCI360/blob/dev/CSCI360_JupyterNT.ipynb\" target=\"_parent\"><img src=\"https://colab.research.google.com/assets/colab-badge.svg\" alt=\"Open In Colab\"/></a>"
      ]
    },
    {
      "cell_type": "markdown",
      "source": [
        "# Lab 0"
      ],
      "metadata": {
        "id": "P7GFsEFIV7yI"
      },
      "id": "P7GFsEFIV7yI"
    },
    {
      "cell_type": "code",
      "source": [
        "from google.colab import drive\n",
        "drive.mount('/content/drive')"
      ],
      "metadata": {
        "colab": {
          "base_uri": "https://localhost:8080/",
          "height": 133
        },
        "id": "Otqbbj2npSom",
        "outputId": "06da61f4-26ae-40d4-be61-b0d0f663ac44"
      },
      "id": "Otqbbj2npSom",
      "execution_count": 2,
      "outputs": [
        {
          "output_type": "error",
          "ename": "SyntaxError",
          "evalue": "ignored",
          "traceback": [
            "\u001b[0;36m  File \u001b[0;32m\"<ipython-input-2-7f1738244615>\"\u001b[0;36m, line \u001b[0;32m4\u001b[0m\n\u001b[0;31m    cd content/drive/Mydrive/Github\u001b[0m\n\u001b[0m       ^\u001b[0m\n\u001b[0;31mSyntaxError\u001b[0m\u001b[0;31m:\u001b[0m invalid syntax\n"
          ]
        }
      ]
    },
    {
      "cell_type": "markdown",
      "source": [
        "List \n",
        "\n",
        "(a)Create a Python list object and perform some basic list functions.\n",
        "\n",
        "(b)Learn about indexing and slicing and try them on a list.\n",
        "\n",
        "(c)Learn about list comprehension and try to create some lists using list comprehen-sion\n",
        "\n",
        "(d)Explore functions like min(), max(), sort(), sum(), and len() to find the sum, min, max, mean, and median of the list."
      ],
      "metadata": {
        "id": "C77uOzGKWJGC"
      },
      "id": "C77uOzGKWJGC"
    },
    {
      "cell_type": "code",
      "source": [
        "my_list = [1, 2, 6, 86, 23]\n",
        "\n",
        "print(my_list[4])\n",
        "\n",
        "print(my_list[0:2])\n",
        "\n",
        "new_list = []\n",
        "\n",
        "for x in my_list:\n",
        "  if x==2:\n",
        "    new_list.append(x)\n",
        "\n",
        "print(new_list)\n",
        "\n",
        "print(min(my_list))\n",
        "\n",
        "my_list.sort()\n",
        "\n",
        "print(my_list)\n",
        "\n",
        "print(sum(my_list))"
      ],
      "metadata": {
        "colab": {
          "base_uri": "https://localhost:8080/"
        },
        "id": "XrjGbV9JWu3m",
        "outputId": "4df4ec0a-ccf6-4d94-e639-929d543589e2"
      },
      "id": "XrjGbV9JWu3m",
      "execution_count": 12,
      "outputs": [
        {
          "output_type": "stream",
          "name": "stdout",
          "text": [
            "23\n",
            "[1, 2]\n",
            "[2]\n",
            "1\n",
            "[1, 2, 6, 23, 86]\n",
            "118\n"
          ]
        }
      ]
    }
  ],
  "metadata": {
    "kernelspec": {
      "display_name": "Python 3 (ipykernel)",
      "language": "python",
      "name": "python3"
    },
    "language_info": {
      "codemirror_mode": {
        "name": "ipython",
        "version": 3
      },
      "file_extension": ".py",
      "mimetype": "text/x-python",
      "name": "python",
      "nbconvert_exporter": "python",
      "pygments_lexer": "ipython3",
      "version": "3.9.12"
    },
    "colab": {
      "provenance": [],
      "toc_visible": true,
      "include_colab_link": true
    }
  },
  "nbformat": 4,
  "nbformat_minor": 5
}