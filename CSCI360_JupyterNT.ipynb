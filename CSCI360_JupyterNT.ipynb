{
  "cells": [
    {
      "cell_type": "markdown",
      "metadata": {
        "id": "view-in-github",
        "colab_type": "text"
      },
      "source": [
        "<a href=\"https://colab.research.google.com/github/alenanovikov/CSCI360/blob/dev/CSCI360_JupyterNT.ipynb\" target=\"_parent\"><img src=\"https://colab.research.google.com/assets/colab-badge.svg\" alt=\"Open In Colab\"/></a>"
      ]
    },
    {
      "cell_type": "markdown",
      "source": [
        "# Lab 0"
      ],
      "metadata": {
        "id": "P7GFsEFIV7yI"
      },
      "id": "P7GFsEFIV7yI"
    },
    {
      "cell_type": "code",
      "source": [
        "from google.colab import drive\n",
        "drive.mount('/content/drive')"
      ],
      "metadata": {
        "colab": {
          "base_uri": "https://localhost:8080/"
        },
        "id": "Otqbbj2npSom",
        "outputId": "97f36581-7d16-47b6-b4c2-af2a0d027d74"
      },
      "id": "Otqbbj2npSom",
      "execution_count": 3,
      "outputs": [
        {
          "output_type": "stream",
          "name": "stdout",
          "text": [
            "Drive already mounted at /content/drive; to attempt to forcibly remount, call drive.mount(\"/content/drive\", force_remount=True).\n"
          ]
        }
      ]
    },
    {
      "cell_type": "markdown",
      "source": [
        "List \n",
        "\n",
        "(a)Create a Python list object and perform some basic list functions.\n",
        "\n",
        "(b)Learn about indexing and slicing and try them on a list.\n",
        "\n",
        "(c)Learn about list comprehension and try to create some lists using list comprehen-sion\n",
        "\n",
        "(d)Explore functions like min(), max(), sort(), sum(), and len() to find the sum, min, max, mean, and median of the list."
      ],
      "metadata": {
        "id": "C77uOzGKWJGC"
      },
      "id": "C77uOzGKWJGC"
    },
    {
      "cell_type": "code",
      "source": [
        "my_list = [1, 2, 6, 86, 23]\n",
        "\n",
        "print(my_list[4])\n",
        "\n",
        "print(my_list[0:2])\n",
        "\n",
        "new_list = []\n",
        "\n",
        "for x in my_list:\n",
        "  if x==2:\n",
        "    new_list.append(x)\n",
        "\n",
        "print(new_list)\n",
        "\n",
        "print(min(my_list))\n",
        "\n",
        "my_list.sort()\n",
        "\n",
        "print(my_list)\n",
        "\n",
        "print(sum(my_list))\n",
        "\n",
        "print(my_list)"
      ],
      "metadata": {
        "colab": {
          "base_uri": "https://localhost:8080/"
        },
        "id": "XrjGbV9JWu3m",
        "outputId": "4df4ec0a-ccf6-4d94-e639-929d543589e2"
      },
      "id": "XrjGbV9JWu3m",
      "execution_count": 12,
      "outputs": [
        {
          "output_type": "stream",
          "name": "stdout",
          "text": [
            "23\n",
            "[1, 2]\n",
            "[2]\n",
            "1\n",
            "[1, 2, 6, 23, 86]\n",
            "118\n"
          ]
        }
      ]
    },
    {
      "cell_type": "markdown",
      "source": [
        "Queue\n",
        "\n",
        "(a)\n",
        "Explore different ways to create a python queue to perform operations efficiently.\n",
        "\n",
        "(b)\n",
        "Understand what a deque is, and what additional flexibility it provides apart from\n",
        "the conventional queue data structure.\n",
        "\n",
        "(c)\n",
        "Create a function to reorganize the elements of a queue. You will need to use\n",
        "loops, conditional operations, push, pop, front methods in the queue. [Refer to\n",
        "the jupyter-notebook]\n",
        "\n",
        "(d)\n",
        "Solve a leetcode problem : Implement stack data structure using queues.\n",
        "\n"
      ],
      "metadata": {
        "id": "4HNEvLK3ymsA"
      },
      "id": "4HNEvLK3ymsA"
    },
    {
      "cell_type": "code",
      "source": [
        "'''\n",
        "Ways to implement a queue in Python:\n",
        "- list: enqueue() = append() and deque() = pop(); slow takes O(n) time\n",
        "- deque: enqueue() = append() and deque() = popfront(); fast takes O(1) time\n",
        "- queue: enqueue() = put(item) and deque() = get(); follows FIFO rule\n",
        "\n",
        "'''\n",
        "\n",
        "from queue import Queue\n",
        "\n",
        "class Stack:\n",
        "  q1 = Queue()\n",
        "  q2 = Queue()\n",
        "\n",
        "  # takes O(1)\n",
        "  def push(self, item):\n",
        "    self.q1.put(item)\n",
        "\n",
        "  # takes O(n)\n",
        "  def pop(self):\n",
        "    # copy everything except the last item to q2\n",
        "    for x in range(self.q1.qsize()-1):\n",
        "      self.q2.put(self.q1.get())\n",
        "    # get the last item\n",
        "    res = self.q1.get()\n",
        "    # swap the queues\n",
        "    temp = self.q1\n",
        "    self.q1 = self.q2\n",
        "    self.q2 = temp\n",
        "    return res\n",
        "\n",
        "  def printstack(self):\n",
        "    print(self.q1.queue)\n",
        "\n",
        "stck = Stack()\n",
        "stck.push(1)\n",
        "stck.push(9)\n",
        "stck.push(56)\n",
        "stck.push(90)\n",
        "stck.printstack()\n",
        "print(stck.pop())\n",
        "print(stck.pop())\n",
        "stck.printstack()"
      ],
      "metadata": {
        "colab": {
          "base_uri": "https://localhost:8080/"
        },
        "id": "_9e7PB-Oy4sa",
        "outputId": "54b7b927-5392-4f29-cda2-b9dc7669a5e9"
      },
      "id": "_9e7PB-Oy4sa",
      "execution_count": 9,
      "outputs": [
        {
          "output_type": "stream",
          "name": "stdout",
          "text": [
            "deque([1, 9, 56, 90])\n",
            "90\n",
            "56\n",
            "deque([1, 9])\n"
          ]
        }
      ]
    }
  ],
  "metadata": {
    "kernelspec": {
      "display_name": "Python 3 (ipykernel)",
      "language": "python",
      "name": "python3"
    },
    "language_info": {
      "codemirror_mode": {
        "name": "ipython",
        "version": 3
      },
      "file_extension": ".py",
      "mimetype": "text/x-python",
      "name": "python",
      "nbconvert_exporter": "python",
      "pygments_lexer": "ipython3",
      "version": "3.9.12"
    },
    "colab": {
      "provenance": [],
      "toc_visible": true,
      "include_colab_link": true
    }
  },
  "nbformat": 4,
  "nbformat_minor": 5
}